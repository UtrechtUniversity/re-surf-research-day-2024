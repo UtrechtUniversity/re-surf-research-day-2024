{
 "cells": [
  {
   "cell_type": "code",
   "execution_count": null,
   "id": "e298ad8f-b314-4718-889c-d9bf93ef88b0",
   "metadata": {},
   "outputs": [],
   "source": [
    "import pandas as pd"
   ]
  },
  {
   "cell_type": "code",
   "execution_count": null,
   "id": "003c81fd-f6e9-48e8-a6d9-27e16b4e0732",
   "metadata": {},
   "outputs": [],
   "source": [
    "df = pd.read_csv(\"../data/nwo_small.csv\", sep=\";\")\n",
    "df.fillna(0, inplace=True)"
   ]
  },
  {
   "cell_type": "code",
   "execution_count": null,
   "id": "0e47eafb-6da9-44a8-9acc-bb00097c0741",
   "metadata": {},
   "outputs": [],
   "source": [
    "df['src_total'] = df['sbu_src']+df['src_gpu']*18  # see usage_summaries.ipynb for gpu-hr to gpu-sbu conversion factor\n",
    "df['sbu_total'] = df['src_total'] + df['sbu_hpc']"
   ]
  },
  {
   "cell_type": "code",
   "execution_count": null,
   "id": "527c7e90-219b-4a7d-9754-153378b7d318",
   "metadata": {},
   "outputs": [],
   "source": [
    "grouped_data = df.groupby(['year', 'RDMS'])"
   ]
  },
  {
   "cell_type": "code",
   "execution_count": null,
   "id": "5229d9e0-c578-4c19-98ec-7ac7f3243e17",
   "metadata": {
    "scrolled": true
   },
   "outputs": [],
   "source": [
    "import matplotlib.pyplot as plt\n",
    "from matplotlib import ticker\n",
    "\n",
    "fig, (ax1,ax2) = plt.subplots(nrows=1,ncols=2,figsize=(12,5))\n",
    "grouped_data['sbu_total'].sum().unstack().plot(kind = 'bar', ax=ax1)\n",
    "grouped_data['sbu_total'].count().unstack().plot(kind = 'bar', ax = ax2)\n",
    "ax1.set_xlabel(\"Year\", fontsize=14)\n",
    "ax1.set_ylabel(\"SBUs\", fontsize=14)\n",
    "ax1.xaxis.set_tick_params(rotation=45, labelsize=10)\n",
    "ax1.get_yaxis().set_major_formatter(\n",
    "    ticker.FuncFormatter(lambda x, p: format(int(x), ',')))\n",
    "ax1.legend(['Direct', 'Via RCCS'])\n",
    "ax2.set_xlabel(\"Year\", fontsize=14)\n",
    "ax2.set_ylabel(\"Applications\", fontsize=14)\n",
    "ax2.xaxis.set_tick_params(rotation=45, labelsize=10)\n",
    "ax2.legend(['Direct', 'Via RCCS'])\n",
    "fig.suptitle('Small Compute applications (by UU researchers)', fontsize=16)\n"
   ]
  },
  {
   "cell_type": "code",
   "execution_count": null,
   "id": "aeb37534-c41c-4dea-afb5-524c43254e5b",
   "metadata": {},
   "outputs": [],
   "source": [
    "fig.savefig('../presentations/images/small_compute.png', dpi=300)"
   ]
  }
 ],
 "metadata": {
  "kernelspec": {
   "display_name": "Python 3 (ipykernel)",
   "language": "python",
   "name": "python3"
  },
  "language_info": {
   "codemirror_mode": {
    "name": "ipython",
    "version": 3
   },
   "file_extension": ".py",
   "mimetype": "text/x-python",
   "name": "python",
   "nbconvert_exporter": "python",
   "pygments_lexer": "ipython3",
   "version": "3.10.11"
  }
 },
 "nbformat": 4,
 "nbformat_minor": 5
}
